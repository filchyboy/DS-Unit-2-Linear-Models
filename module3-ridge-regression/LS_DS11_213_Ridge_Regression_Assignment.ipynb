{
  "nbformat": 4,
  "nbformat_minor": 0,
  "metadata": {
    "kernelspec": {
      "display_name": "Python 3",
      "language": "python",
      "name": "python3"
    },
    "language_info": {
      "codemirror_mode": {
        "name": "ipython",
        "version": 3
      },
      "file_extension": ".py",
      "mimetype": "text/x-python",
      "name": "python",
      "nbconvert_exporter": "python",
      "pygments_lexer": "ipython3",
      "version": "3.7.3"
    },
    "colab": {
      "name": "LS_DS11_213_Ridge_Regression_Assignment",
      "provenance": [],
      "include_colab_link": true
    }
  },
  "cells": [
    {
      "cell_type": "markdown",
      "metadata": {
        "id": "view-in-github",
        "colab_type": "text"
      },
      "source": [
        "<a href=\"https://colab.research.google.com/github/filchyboy/DS-Unit-2-Linear-Models/blob/master/module3-ridge-regression/LS_DS11_213_Ridge_Regression_Assignment.ipynb\" target=\"_parent\"><img src=\"https://colab.research.google.com/assets/colab-badge.svg\" alt=\"Open In Colab\"/></a>"
      ]
    },
    {
      "cell_type": "markdown",
      "metadata": {
        "id": "kHSzQwy3nXiU",
        "colab_type": "text"
      },
      "source": [
        "Lambda School Data Science\n",
        "\n",
        "*Unit 2, Sprint 1, Module 3*\n",
        "\n",
        "---"
      ]
    },
    {
      "cell_type": "markdown",
      "metadata": {
        "colab_type": "text",
        "id": "7IXUfiQ2UKj6"
      },
      "source": [
        "# Ridge Regression\n",
        "\n",
        "## Assignment\n",
        "\n",
        "We're going back to our other **New York City** real estate dataset. Instead of predicting apartment rents, you'll predict property sales prices.\n",
        "\n",
        "But not just for condos in Tribeca...\n",
        "\n",
        "- [X] Use a subset of the data where `BUILDING_CLASS_CATEGORY` == `'01 ONE FAMILY DWELLINGS'` and the sale price was more than 100 thousand and less than 2 million.\n",
        "- [X] Do train/test split. Use data from January — March 2019 to train. Use data from April 2019 to test.\n",
        "- [ ] Do one-hot encoding of categorical features.\n",
        "- [ ] Do feature selection with `SelectKBest`.\n",
        "- [ ] Fit a ridge regression model with multiple features. Use the `normalize=True` parameter (or do [feature scaling](https://scikit-learn.org/stable/modules/preprocessing.html) beforehand — use the scaler's `fit_transform` method with the train set, and the scaler's `transform` method with the test set)\n",
        "- [ ] Get mean absolute error for the test set.\n",
        "- [ ] As always, commit your notebook to your fork of the GitHub repo.\n",
        "\n",
        "The [NYC Department of Finance](https://www1.nyc.gov/site/finance/taxes/property-rolling-sales-data.page) has a glossary of property sales terms and NYC Building Class Code Descriptions. The data comes from the [NYC OpenData](https://data.cityofnewyork.us/browse?q=NYC%20calendar%20sales) portal.\n",
        "\n",
        "\n",
        "## Stretch Goals\n",
        "\n",
        "Don't worry, you aren't expected to do all these stretch goals! These are just ideas to consider and choose from.\n",
        "\n",
        "- [ ] Add your own stretch goal(s) !\n",
        "- [ ] Instead of `Ridge`, try `LinearRegression`. Depending on how many features you select, your errors will probably blow up! 💥\n",
        "- [ ] Instead of `Ridge`, try [`RidgeCV`](https://scikit-learn.org/stable/modules/generated/sklearn.linear_model.RidgeCV.html).\n",
        "- [ ] Learn more about feature selection:\n",
        "    - [\"Permutation importance\"](https://www.kaggle.com/dansbecker/permutation-importance)\n",
        "    - [scikit-learn's User Guide for Feature Selection](https://scikit-learn.org/stable/modules/feature_selection.html)\n",
        "    - [mlxtend](http://rasbt.github.io/mlxtend/) library\n",
        "    - scikit-learn-contrib libraries: [boruta_py](https://github.com/scikit-learn-contrib/boruta_py) & [stability-selection](https://github.com/scikit-learn-contrib/stability-selection)\n",
        "    - [_Feature Engineering and Selection_](http://www.feat.engineering/) by Kuhn & Johnson.\n",
        "- [ ] Try [statsmodels](https://www.statsmodels.org/stable/index.html) if you’re interested in more inferential statistical approach to linear regression and feature selection, looking at p values and 95% confidence intervals for the coefficients.\n",
        "- [ ] Read [_An Introduction to Statistical Learning_](http://faculty.marshall.usc.edu/gareth-james/ISL/ISLR%20Seventh%20Printing.pdf), Chapters 1-3, for more math & theory, but in an accessible, readable way.\n",
        "- [ ] Try [scikit-learn pipelines](https://scikit-learn.org/stable/modules/compose.html)."
      ]
    },
    {
      "cell_type": "code",
      "metadata": {
        "colab_type": "code",
        "id": "o9eSnDYhUGD7",
        "colab": {}
      },
      "source": [
        "%%capture\n",
        "import sys\n",
        "\n",
        "# If you're on Colab:\n",
        "if 'google.colab' in sys.modules:\n",
        "    DATA_PATH = 'https://raw.githubusercontent.com/LambdaSchool/DS-Unit-2-Applied-Modeling/master/data/'\n",
        "    !pip install category_encoders==2.*\n",
        "\n",
        "# If you're working locally:\n",
        "else:\n",
        "    DATA_PATH = '../data/'\n",
        "    \n",
        "# Ignore this Numpy warning when using Plotly Express:\n",
        "# FutureWarning: Method .ptp is deprecated and will be removed in a future version. Use numpy.ptp instead.\n",
        "import warnings\n",
        "warnings.filterwarnings(action='ignore', category=FutureWarning, module='numpy')"
      ],
      "execution_count": 0,
      "outputs": []
    },
    {
      "cell_type": "code",
      "metadata": {
        "id": "_-8X42t4HqS3",
        "colab_type": "code",
        "colab": {}
      },
      "source": [
        "import category_encoders as ce\n",
        "from sklearn.feature_selection import SelectKBest, f_regression\n",
        "from sklearn.linear_model import LinearRegression\n",
        "from sklearn.metrics import mean_absolute_error\n",
        "from IPython.display import display, HTML\n",
        "from sklearn.linear_model import RidgeCV\n",
        "import matplotlib.pyplot as plt"
      ],
      "execution_count": 0,
      "outputs": []
    },
    {
      "cell_type": "code",
      "metadata": {
        "colab_type": "code",
        "id": "QJBD4ruICm1m",
        "colab": {}
      },
      "source": [
        "import pandas as pd\n",
        "import pandas_profiling\n",
        "\n",
        "# Read New York City property sales data\n",
        "df = pd.read_csv(DATA_PATH+'condos/NYC_Citywide_Rolling_Calendar_Sales.csv')\n",
        "\n",
        "# Change column names: replace spaces with underscores\n",
        "df.columns = [col.replace(' ', '_') for col in df]\n",
        "\n",
        "# SALE_PRICE was read as strings.\n",
        "# Remove symbols, convert to integer\n",
        "df['SALE_PRICE'] = (\n",
        "    df['SALE_PRICE']\n",
        "    .str.replace('$','')\n",
        "    .str.replace('-','')\n",
        "    .str.replace(',','')\n",
        "    .astype(int)\n",
        ")"
      ],
      "execution_count": 0,
      "outputs": []
    },
    {
      "cell_type": "code",
      "metadata": {
        "id": "JjQyr7LhnXiz",
        "colab_type": "code",
        "colab": {}
      },
      "source": [
        "# BOROUGH is a numeric column, but arguably should be a categorical feature,\n",
        "# so convert it from a number to a string\n",
        "df['BOROUGH'] = df['BOROUGH'].astype(str)"
      ],
      "execution_count": 0,
      "outputs": []
    },
    {
      "cell_type": "code",
      "metadata": {
        "id": "d93jwpDLnXi2",
        "colab_type": "code",
        "colab": {}
      },
      "source": [
        "# Reduce cardinality for NEIGHBORHOOD feature\n",
        "\n",
        "# Get a list of the top 10 neighborhoods\n",
        "top10 = df['NEIGHBORHOOD'].value_counts()[:10].index\n",
        "\n",
        "# At locations where the neighborhood is NOT in the top 10, \n",
        "# replace the neighborhood with 'OTHER'\n",
        "df.loc[~df['NEIGHBORHOOD'].isin(top10), 'NEIGHBORHOOD'] = 'OTHER'"
      ],
      "execution_count": 0,
      "outputs": []
    },
    {
      "cell_type": "markdown",
      "metadata": {
        "id": "4Maqki8oyl8z",
        "colab_type": "text"
      },
      "source": [
        "##Narrowed Data Set by Type of Dwelling & Value of Property"
      ]
    },
    {
      "cell_type": "code",
      "metadata": {
        "id": "7qmn7IQltfLb",
        "colab_type": "code",
        "colab": {}
      },
      "source": [
        "df = df[df['BUILDING_CLASS_CATEGORY'] == '01 ONE FAMILY DWELLINGS']\n",
        "df = df[df['SALE_PRICE'] > 100000]\n",
        "df = df[df['SALE_PRICE'] < 2000000]"
      ],
      "execution_count": 0,
      "outputs": []
    },
    {
      "cell_type": "code",
      "metadata": {
        "id": "pyZ6I5Cvy1EI",
        "colab_type": "code",
        "colab": {
          "base_uri": "https://localhost:8080/",
          "height": 0
        },
        "outputId": "69489283-2eb9-4f23-927e-088a1b1abe83"
      },
      "source": [
        "df.shape"
      ],
      "execution_count": 7,
      "outputs": [
        {
          "output_type": "execute_result",
          "data": {
            "text/plain": [
              "(3151, 21)"
            ]
          },
          "metadata": {
            "tags": []
          },
          "execution_count": 7
        }
      ]
    },
    {
      "cell_type": "markdown",
      "metadata": {
        "id": "YxAJova10JTL",
        "colab_type": "text"
      },
      "source": [
        "##Clean Data"
      ]
    },
    {
      "cell_type": "markdown",
      "metadata": {
        "id": "S-liSiOx1YW9",
        "colab_type": "text"
      },
      "source": [
        "###Checking Nulls"
      ]
    },
    {
      "cell_type": "code",
      "metadata": {
        "id": "goVbGCgu0Nwa",
        "colab_type": "code",
        "colab": {
          "base_uri": "https://localhost:8080/",
          "height": 391
        },
        "outputId": "b9aaae9d-d9fa-4b74-c894-17951e96b335"
      },
      "source": [
        "df.isnull().sum()"
      ],
      "execution_count": 8,
      "outputs": [
        {
          "output_type": "execute_result",
          "data": {
            "text/plain": [
              "BOROUGH                              0\n",
              "NEIGHBORHOOD                         0\n",
              "BUILDING_CLASS_CATEGORY              0\n",
              "TAX_CLASS_AT_PRESENT                 0\n",
              "BLOCK                                0\n",
              "LOT                                  0\n",
              "EASE-MENT                         3151\n",
              "BUILDING_CLASS_AT_PRESENT            0\n",
              "ADDRESS                              0\n",
              "APARTMENT_NUMBER                  3150\n",
              "ZIP_CODE                             0\n",
              "RESIDENTIAL_UNITS                    0\n",
              "COMMERCIAL_UNITS                     0\n",
              "TOTAL_UNITS                          0\n",
              "LAND_SQUARE_FEET                     0\n",
              "GROSS_SQUARE_FEET                    0\n",
              "YEAR_BUILT                           0\n",
              "TAX_CLASS_AT_TIME_OF_SALE            0\n",
              "BUILDING_CLASS_AT_TIME_OF_SALE       0\n",
              "SALE_PRICE                           0\n",
              "SALE_DATE                            0\n",
              "dtype: int64"
            ]
          },
          "metadata": {
            "tags": []
          },
          "execution_count": 8
        }
      ]
    },
    {
      "cell_type": "code",
      "metadata": {
        "id": "qpey3c0y0koS",
        "colab_type": "code",
        "colab": {}
      },
      "source": [
        "df = df.drop(['EASE-MENT','APARTMENT_NUMBER','TAX_CLASS_AT_TIME_OF_SALE'], axis=1)"
      ],
      "execution_count": 0,
      "outputs": []
    },
    {
      "cell_type": "markdown",
      "metadata": {
        "id": "MgnZZJum1e5n",
        "colab_type": "text"
      },
      "source": [
        "###Datatypes & Mismatches"
      ]
    },
    {
      "cell_type": "code",
      "metadata": {
        "id": "ZEbOfK_d1jdf",
        "colab_type": "code",
        "colab": {
          "base_uri": "https://localhost:8080/",
          "height": 408
        },
        "outputId": "f7107c7d-8fee-4a98-a24e-f914d7177f87"
      },
      "source": [
        "df.info()"
      ],
      "execution_count": 10,
      "outputs": [
        {
          "output_type": "stream",
          "text": [
            "<class 'pandas.core.frame.DataFrame'>\n",
            "Int64Index: 3151 entries, 44 to 23035\n",
            "Data columns (total 18 columns):\n",
            "BOROUGH                           3151 non-null object\n",
            "NEIGHBORHOOD                      3151 non-null object\n",
            "BUILDING_CLASS_CATEGORY           3151 non-null object\n",
            "TAX_CLASS_AT_PRESENT              3151 non-null object\n",
            "BLOCK                             3151 non-null int64\n",
            "LOT                               3151 non-null int64\n",
            "BUILDING_CLASS_AT_PRESENT         3151 non-null object\n",
            "ADDRESS                           3151 non-null object\n",
            "ZIP_CODE                          3151 non-null float64\n",
            "RESIDENTIAL_UNITS                 3151 non-null float64\n",
            "COMMERCIAL_UNITS                  3151 non-null float64\n",
            "TOTAL_UNITS                       3151 non-null float64\n",
            "LAND_SQUARE_FEET                  3151 non-null object\n",
            "GROSS_SQUARE_FEET                 3151 non-null float64\n",
            "YEAR_BUILT                        3151 non-null float64\n",
            "BUILDING_CLASS_AT_TIME_OF_SALE    3151 non-null object\n",
            "SALE_PRICE                        3151 non-null int64\n",
            "SALE_DATE                         3151 non-null object\n",
            "dtypes: float64(6), int64(3), object(9)\n",
            "memory usage: 467.7+ KB\n"
          ],
          "name": "stdout"
        }
      ]
    },
    {
      "cell_type": "markdown",
      "metadata": {
        "id": "e5R6x-zfKLC_",
        "colab_type": "text"
      },
      "source": [
        "####'LAND_SQUARE_FEET' is an object when it should be an integer."
      ]
    },
    {
      "cell_type": "code",
      "metadata": {
        "id": "j4tQZama1xQ2",
        "colab_type": "code",
        "colab": {
          "base_uri": "https://localhost:8080/",
          "height": 119
        },
        "outputId": "560fc3f8-7fed-4a17-8e94-c38a571c0c49"
      },
      "source": [
        "df['LAND_SQUARE_FEET'].head()"
      ],
      "execution_count": 11,
      "outputs": [
        {
          "output_type": "execute_result",
          "data": {
            "text/plain": [
              "44     6,800\n",
              "61     4,000\n",
              "78     3,500\n",
              "108    4,000\n",
              "111    1,710\n",
              "Name: LAND_SQUARE_FEET, dtype: object"
            ]
          },
          "metadata": {
            "tags": []
          },
          "execution_count": 11
        }
      ]
    },
    {
      "cell_type": "code",
      "metadata": {
        "id": "5fRFZfTt2PlZ",
        "colab_type": "code",
        "colab": {}
      },
      "source": [
        "df['LAND_SQUARE_FEET'] = df['LAND_SQUARE_FEET'].str.replace(r',', '')\n",
        "df['LAND_SQUARE_FEET'] = df['LAND_SQUARE_FEET'].astype(int)"
      ],
      "execution_count": 0,
      "outputs": []
    },
    {
      "cell_type": "markdown",
      "metadata": {
        "id": "DxhOGO3gs6vV",
        "colab_type": "text"
      },
      "source": [
        "##Set Datetime Format & Split Train/Test by Same\n"
      ]
    },
    {
      "cell_type": "code",
      "metadata": {
        "id": "J530TlEanXi9",
        "colab_type": "code",
        "colab": {
          "base_uri": "https://localhost:8080/",
          "height": 136
        },
        "outputId": "92fe5356-dcc8-4aa5-8176-48f0058085cd"
      },
      "source": [
        "df['SALE_DATE'] = pd.to_datetime(df['SALE_DATE'], infer_datetime_format=True)\n",
        "df['SALE_DATE'].describe()"
      ],
      "execution_count": 13,
      "outputs": [
        {
          "output_type": "execute_result",
          "data": {
            "text/plain": [
              "count                    3151\n",
              "unique                     91\n",
              "top       2019-01-31 00:00:00\n",
              "freq                       78\n",
              "first     2019-01-01 00:00:00\n",
              "last      2019-04-30 00:00:00\n",
              "Name: SALE_DATE, dtype: object"
            ]
          },
          "metadata": {
            "tags": []
          },
          "execution_count": 13
        }
      ]
    },
    {
      "cell_type": "code",
      "metadata": {
        "id": "vAXslNAHpCqT",
        "colab_type": "code",
        "colab": {
          "base_uri": "https://localhost:8080/",
          "height": 102
        },
        "outputId": "675abf79-d3f5-4a0e-cbe5-cf990a4bf7e4"
      },
      "source": [
        "df['SALE_DATE'].dt.month.value_counts()\n"
      ],
      "execution_count": 14,
      "outputs": [
        {
          "output_type": "execute_result",
          "data": {
            "text/plain": [
              "1    947\n",
              "3    799\n",
              "2    761\n",
              "4    644\n",
              "Name: SALE_DATE, dtype: int64"
            ]
          },
          "metadata": {
            "tags": []
          },
          "execution_count": 14
        }
      ]
    },
    {
      "cell_type": "code",
      "metadata": {
        "id": "IQjbxImOp8o3",
        "colab_type": "code",
        "colab": {
          "base_uri": "https://localhost:8080/",
          "height": 34
        },
        "outputId": "52947e2d-f1d7-44a5-b034-33ede174444f"
      },
      "source": [
        "df = df.set_index('SALE_DATE')\n",
        "train = df['2019-01':'2019-03'].reset_index()\n",
        "test  = df['2019-04':].reset_index()\n",
        "df = df.reset_index()\n",
        "train.shape, test.shape"
      ],
      "execution_count": 15,
      "outputs": [
        {
          "output_type": "execute_result",
          "data": {
            "text/plain": [
              "((2507, 18), (644, 18))"
            ]
          },
          "metadata": {
            "tags": []
          },
          "execution_count": 15
        }
      ]
    },
    {
      "cell_type": "markdown",
      "metadata": {
        "id": "gubsugWTMgtW",
        "colab_type": "text"
      },
      "source": [
        "##Encode"
      ]
    },
    {
      "cell_type": "markdown",
      "metadata": {
        "id": "7KRYTt7ZNljf",
        "colab_type": "text"
      },
      "source": [
        "###Drop 'BUILDING_CLASS_CATEGORY'\n",
        "All data is now aligned on this constant so it can be removed.\n"
      ]
    },
    {
      "cell_type": "code",
      "metadata": {
        "id": "NhYmi7VkM_F9",
        "colab_type": "code",
        "colab": {}
      },
      "source": [
        "train = train.drop(['BUILDING_CLASS_CATEGORY'], axis=1)\n",
        "test = test.drop(['BUILDING_CLASS_CATEGORY'], axis=1)"
      ],
      "execution_count": 0,
      "outputs": []
    },
    {
      "cell_type": "code",
      "metadata": {
        "id": "KvxlxA_iMkWG",
        "colab_type": "code",
        "colab": {
          "base_uri": "https://localhost:8080/",
          "height": 359
        },
        "outputId": "8f21bb0b-6e59-4afc-a079-bcf6c6571af0"
      },
      "source": [
        "train.select_dtypes(include='number').describe().T"
      ],
      "execution_count": 17,
      "outputs": [
        {
          "output_type": "execute_result",
          "data": {
            "text/html": [
              "<div>\n",
              "<style scoped>\n",
              "    .dataframe tbody tr th:only-of-type {\n",
              "        vertical-align: middle;\n",
              "    }\n",
              "\n",
              "    .dataframe tbody tr th {\n",
              "        vertical-align: top;\n",
              "    }\n",
              "\n",
              "    .dataframe thead th {\n",
              "        text-align: right;\n",
              "    }\n",
              "</style>\n",
              "<table border=\"1\" class=\"dataframe\">\n",
              "  <thead>\n",
              "    <tr style=\"text-align: right;\">\n",
              "      <th></th>\n",
              "      <th>count</th>\n",
              "      <th>mean</th>\n",
              "      <th>std</th>\n",
              "      <th>min</th>\n",
              "      <th>25%</th>\n",
              "      <th>50%</th>\n",
              "      <th>75%</th>\n",
              "      <th>max</th>\n",
              "    </tr>\n",
              "  </thead>\n",
              "  <tbody>\n",
              "    <tr>\n",
              "      <th>BLOCK</th>\n",
              "      <td>2507.0</td>\n",
              "      <td>6758.303949</td>\n",
              "      <td>3975.909029</td>\n",
              "      <td>21.0</td>\n",
              "      <td>3837.5</td>\n",
              "      <td>6022.0</td>\n",
              "      <td>9888.5</td>\n",
              "      <td>16350.0</td>\n",
              "    </tr>\n",
              "    <tr>\n",
              "      <th>LOT</th>\n",
              "      <td>2507.0</td>\n",
              "      <td>75.778221</td>\n",
              "      <td>157.531138</td>\n",
              "      <td>1.0</td>\n",
              "      <td>21.0</td>\n",
              "      <td>42.0</td>\n",
              "      <td>70.0</td>\n",
              "      <td>2720.0</td>\n",
              "    </tr>\n",
              "    <tr>\n",
              "      <th>ZIP_CODE</th>\n",
              "      <td>2507.0</td>\n",
              "      <td>10993.398484</td>\n",
              "      <td>494.291462</td>\n",
              "      <td>10301.0</td>\n",
              "      <td>10314.0</td>\n",
              "      <td>11234.0</td>\n",
              "      <td>11413.0</td>\n",
              "      <td>11697.0</td>\n",
              "    </tr>\n",
              "    <tr>\n",
              "      <th>RESIDENTIAL_UNITS</th>\n",
              "      <td>2507.0</td>\n",
              "      <td>0.987635</td>\n",
              "      <td>0.110532</td>\n",
              "      <td>0.0</td>\n",
              "      <td>1.0</td>\n",
              "      <td>1.0</td>\n",
              "      <td>1.0</td>\n",
              "      <td>1.0</td>\n",
              "    </tr>\n",
              "    <tr>\n",
              "      <th>COMMERCIAL_UNITS</th>\n",
              "      <td>2507.0</td>\n",
              "      <td>0.016354</td>\n",
              "      <td>0.129966</td>\n",
              "      <td>0.0</td>\n",
              "      <td>0.0</td>\n",
              "      <td>0.0</td>\n",
              "      <td>0.0</td>\n",
              "      <td>2.0</td>\n",
              "    </tr>\n",
              "    <tr>\n",
              "      <th>TOTAL_UNITS</th>\n",
              "      <td>2507.0</td>\n",
              "      <td>1.003989</td>\n",
              "      <td>0.171794</td>\n",
              "      <td>0.0</td>\n",
              "      <td>1.0</td>\n",
              "      <td>1.0</td>\n",
              "      <td>1.0</td>\n",
              "      <td>3.0</td>\n",
              "    </tr>\n",
              "    <tr>\n",
              "      <th>LAND_SQUARE_FEET</th>\n",
              "      <td>2507.0</td>\n",
              "      <td>3146.051057</td>\n",
              "      <td>1798.714872</td>\n",
              "      <td>0.0</td>\n",
              "      <td>2000.0</td>\n",
              "      <td>2600.0</td>\n",
              "      <td>4000.0</td>\n",
              "      <td>18906.0</td>\n",
              "    </tr>\n",
              "    <tr>\n",
              "      <th>GROSS_SQUARE_FEET</th>\n",
              "      <td>2507.0</td>\n",
              "      <td>1473.744715</td>\n",
              "      <td>599.217635</td>\n",
              "      <td>0.0</td>\n",
              "      <td>1144.0</td>\n",
              "      <td>1368.0</td>\n",
              "      <td>1683.0</td>\n",
              "      <td>7875.0</td>\n",
              "    </tr>\n",
              "    <tr>\n",
              "      <th>YEAR_BUILT</th>\n",
              "      <td>2507.0</td>\n",
              "      <td>1944.766653</td>\n",
              "      <td>27.059337</td>\n",
              "      <td>1890.0</td>\n",
              "      <td>1925.0</td>\n",
              "      <td>1940.0</td>\n",
              "      <td>1960.0</td>\n",
              "      <td>2018.0</td>\n",
              "    </tr>\n",
              "    <tr>\n",
              "      <th>SALE_PRICE</th>\n",
              "      <td>2507.0</td>\n",
              "      <td>621573.742321</td>\n",
              "      <td>291607.225676</td>\n",
              "      <td>104000.0</td>\n",
              "      <td>440500.0</td>\n",
              "      <td>560000.0</td>\n",
              "      <td>750000.0</td>\n",
              "      <td>1955000.0</td>\n",
              "    </tr>\n",
              "  </tbody>\n",
              "</table>\n",
              "</div>"
            ],
            "text/plain": [
              "                    count           mean  ...       75%        max\n",
              "BLOCK              2507.0    6758.303949  ...    9888.5    16350.0\n",
              "LOT                2507.0      75.778221  ...      70.0     2720.0\n",
              "ZIP_CODE           2507.0   10993.398484  ...   11413.0    11697.0\n",
              "RESIDENTIAL_UNITS  2507.0       0.987635  ...       1.0        1.0\n",
              "COMMERCIAL_UNITS   2507.0       0.016354  ...       0.0        2.0\n",
              "TOTAL_UNITS        2507.0       1.003989  ...       1.0        3.0\n",
              "LAND_SQUARE_FEET   2507.0    3146.051057  ...    4000.0    18906.0\n",
              "GROSS_SQUARE_FEET  2507.0    1473.744715  ...    1683.0     7875.0\n",
              "YEAR_BUILT         2507.0    1944.766653  ...    1960.0     2018.0\n",
              "SALE_PRICE         2507.0  621573.742321  ...  750000.0  1955000.0\n",
              "\n",
              "[10 rows x 8 columns]"
            ]
          },
          "metadata": {
            "tags": []
          },
          "execution_count": 17
        }
      ]
    },
    {
      "cell_type": "code",
      "metadata": {
        "id": "Tz6ZW62VOG-0",
        "colab_type": "code",
        "colab": {
          "base_uri": "https://localhost:8080/",
          "height": 359
        },
        "outputId": "9fd85a68-3ef1-4ea7-d481-a60b1b3bd6ce"
      },
      "source": [
        "test.select_dtypes(include='number').describe().T"
      ],
      "execution_count": 18,
      "outputs": [
        {
          "output_type": "execute_result",
          "data": {
            "text/html": [
              "<div>\n",
              "<style scoped>\n",
              "    .dataframe tbody tr th:only-of-type {\n",
              "        vertical-align: middle;\n",
              "    }\n",
              "\n",
              "    .dataframe tbody tr th {\n",
              "        vertical-align: top;\n",
              "    }\n",
              "\n",
              "    .dataframe thead th {\n",
              "        text-align: right;\n",
              "    }\n",
              "</style>\n",
              "<table border=\"1\" class=\"dataframe\">\n",
              "  <thead>\n",
              "    <tr style=\"text-align: right;\">\n",
              "      <th></th>\n",
              "      <th>count</th>\n",
              "      <th>mean</th>\n",
              "      <th>std</th>\n",
              "      <th>min</th>\n",
              "      <th>25%</th>\n",
              "      <th>50%</th>\n",
              "      <th>75%</th>\n",
              "      <th>max</th>\n",
              "    </tr>\n",
              "  </thead>\n",
              "  <tbody>\n",
              "    <tr>\n",
              "      <th>BLOCK</th>\n",
              "      <td>644.0</td>\n",
              "      <td>7539.559006</td>\n",
              "      <td>3854.438406</td>\n",
              "      <td>107.0</td>\n",
              "      <td>4500.00</td>\n",
              "      <td>7393.0</td>\n",
              "      <td>10857.5</td>\n",
              "      <td>16350.0</td>\n",
              "    </tr>\n",
              "    <tr>\n",
              "      <th>LOT</th>\n",
              "      <td>644.0</td>\n",
              "      <td>76.773292</td>\n",
              "      <td>174.379223</td>\n",
              "      <td>1.0</td>\n",
              "      <td>21.00</td>\n",
              "      <td>41.0</td>\n",
              "      <td>68.0</td>\n",
              "      <td>2202.0</td>\n",
              "    </tr>\n",
              "    <tr>\n",
              "      <th>ZIP_CODE</th>\n",
              "      <td>644.0</td>\n",
              "      <td>11158.880435</td>\n",
              "      <td>410.161914</td>\n",
              "      <td>10030.0</td>\n",
              "      <td>11208.00</td>\n",
              "      <td>11362.0</td>\n",
              "      <td>11419.0</td>\n",
              "      <td>11697.0</td>\n",
              "    </tr>\n",
              "    <tr>\n",
              "      <th>RESIDENTIAL_UNITS</th>\n",
              "      <td>644.0</td>\n",
              "      <td>0.987578</td>\n",
              "      <td>0.124087</td>\n",
              "      <td>0.0</td>\n",
              "      <td>1.00</td>\n",
              "      <td>1.0</td>\n",
              "      <td>1.0</td>\n",
              "      <td>2.0</td>\n",
              "    </tr>\n",
              "    <tr>\n",
              "      <th>COMMERCIAL_UNITS</th>\n",
              "      <td>644.0</td>\n",
              "      <td>0.013975</td>\n",
              "      <td>0.117479</td>\n",
              "      <td>0.0</td>\n",
              "      <td>0.00</td>\n",
              "      <td>0.0</td>\n",
              "      <td>0.0</td>\n",
              "      <td>1.0</td>\n",
              "    </tr>\n",
              "    <tr>\n",
              "      <th>TOTAL_UNITS</th>\n",
              "      <td>644.0</td>\n",
              "      <td>1.001553</td>\n",
              "      <td>0.171891</td>\n",
              "      <td>0.0</td>\n",
              "      <td>1.00</td>\n",
              "      <td>1.0</td>\n",
              "      <td>1.0</td>\n",
              "      <td>2.0</td>\n",
              "    </tr>\n",
              "    <tr>\n",
              "      <th>LAND_SQUARE_FEET</th>\n",
              "      <td>644.0</td>\n",
              "      <td>2980.018634</td>\n",
              "      <td>1751.056229</td>\n",
              "      <td>0.0</td>\n",
              "      <td>2000.00</td>\n",
              "      <td>2500.0</td>\n",
              "      <td>3800.0</td>\n",
              "      <td>17340.0</td>\n",
              "    </tr>\n",
              "    <tr>\n",
              "      <th>GROSS_SQUARE_FEET</th>\n",
              "      <td>644.0</td>\n",
              "      <td>1456.923913</td>\n",
              "      <td>533.476881</td>\n",
              "      <td>0.0</td>\n",
              "      <td>1150.75</td>\n",
              "      <td>1344.0</td>\n",
              "      <td>1685.5</td>\n",
              "      <td>4026.0</td>\n",
              "    </tr>\n",
              "    <tr>\n",
              "      <th>YEAR_BUILT</th>\n",
              "      <td>644.0</td>\n",
              "      <td>1939.521739</td>\n",
              "      <td>24.712741</td>\n",
              "      <td>1899.0</td>\n",
              "      <td>1925.00</td>\n",
              "      <td>1930.0</td>\n",
              "      <td>1950.0</td>\n",
              "      <td>2018.0</td>\n",
              "    </tr>\n",
              "    <tr>\n",
              "      <th>SALE_PRICE</th>\n",
              "      <td>644.0</td>\n",
              "      <td>655757.054348</td>\n",
              "      <td>296979.954119</td>\n",
              "      <td>107500.0</td>\n",
              "      <td>470000.00</td>\n",
              "      <td>599300.0</td>\n",
              "      <td>781625.0</td>\n",
              "      <td>1912500.0</td>\n",
              "    </tr>\n",
              "  </tbody>\n",
              "</table>\n",
              "</div>"
            ],
            "text/plain": [
              "                   count           mean  ...       75%        max\n",
              "BLOCK              644.0    7539.559006  ...   10857.5    16350.0\n",
              "LOT                644.0      76.773292  ...      68.0     2202.0\n",
              "ZIP_CODE           644.0   11158.880435  ...   11419.0    11697.0\n",
              "RESIDENTIAL_UNITS  644.0       0.987578  ...       1.0        2.0\n",
              "COMMERCIAL_UNITS   644.0       0.013975  ...       0.0        1.0\n",
              "TOTAL_UNITS        644.0       1.001553  ...       1.0        2.0\n",
              "LAND_SQUARE_FEET   644.0    2980.018634  ...    3800.0    17340.0\n",
              "GROSS_SQUARE_FEET  644.0    1456.923913  ...    1685.5     4026.0\n",
              "YEAR_BUILT         644.0    1939.521739  ...    1950.0     2018.0\n",
              "SALE_PRICE         644.0  655757.054348  ...  781625.0  1912500.0\n",
              "\n",
              "[10 rows x 8 columns]"
            ]
          },
          "metadata": {
            "tags": []
          },
          "execution_count": 18
        }
      ]
    },
    {
      "cell_type": "code",
      "metadata": {
        "id": "9CTpVuN_Ms53",
        "colab_type": "code",
        "colab": {
          "base_uri": "https://localhost:8080/",
          "height": 266
        },
        "outputId": "a82ae973-4fb9-459c-a22b-d4ec41979e2b"
      },
      "source": [
        "train.describe(exclude='number').T.sort_values(by='unique')"
      ],
      "execution_count": 19,
      "outputs": [
        {
          "output_type": "execute_result",
          "data": {
            "text/html": [
              "<div>\n",
              "<style scoped>\n",
              "    .dataframe tbody tr th:only-of-type {\n",
              "        vertical-align: middle;\n",
              "    }\n",
              "\n",
              "    .dataframe tbody tr th {\n",
              "        vertical-align: top;\n",
              "    }\n",
              "\n",
              "    .dataframe thead th {\n",
              "        text-align: right;\n",
              "    }\n",
              "</style>\n",
              "<table border=\"1\" class=\"dataframe\">\n",
              "  <thead>\n",
              "    <tr style=\"text-align: right;\">\n",
              "      <th></th>\n",
              "      <th>count</th>\n",
              "      <th>unique</th>\n",
              "      <th>top</th>\n",
              "      <th>freq</th>\n",
              "      <th>first</th>\n",
              "      <th>last</th>\n",
              "    </tr>\n",
              "  </thead>\n",
              "  <tbody>\n",
              "    <tr>\n",
              "      <th>TAX_CLASS_AT_PRESENT</th>\n",
              "      <td>2507</td>\n",
              "      <td>2</td>\n",
              "      <td>1</td>\n",
              "      <td>2476</td>\n",
              "      <td>NaT</td>\n",
              "      <td>NaT</td>\n",
              "    </tr>\n",
              "    <tr>\n",
              "      <th>BOROUGH</th>\n",
              "      <td>2507</td>\n",
              "      <td>5</td>\n",
              "      <td>4</td>\n",
              "      <td>1204</td>\n",
              "      <td>NaT</td>\n",
              "      <td>NaT</td>\n",
              "    </tr>\n",
              "    <tr>\n",
              "      <th>NEIGHBORHOOD</th>\n",
              "      <td>2507</td>\n",
              "      <td>6</td>\n",
              "      <td>OTHER</td>\n",
              "      <td>2382</td>\n",
              "      <td>NaT</td>\n",
              "      <td>NaT</td>\n",
              "    </tr>\n",
              "    <tr>\n",
              "      <th>BUILDING_CLASS_AT_TIME_OF_SALE</th>\n",
              "      <td>2507</td>\n",
              "      <td>11</td>\n",
              "      <td>A1</td>\n",
              "      <td>919</td>\n",
              "      <td>NaT</td>\n",
              "      <td>NaT</td>\n",
              "    </tr>\n",
              "    <tr>\n",
              "      <th>BUILDING_CLASS_AT_PRESENT</th>\n",
              "      <td>2507</td>\n",
              "      <td>13</td>\n",
              "      <td>A1</td>\n",
              "      <td>919</td>\n",
              "      <td>NaT</td>\n",
              "      <td>NaT</td>\n",
              "    </tr>\n",
              "    <tr>\n",
              "      <th>SALE_DATE</th>\n",
              "      <td>2507</td>\n",
              "      <td>68</td>\n",
              "      <td>2019-01-31 00:00:00</td>\n",
              "      <td>78</td>\n",
              "      <td>2019-01-01</td>\n",
              "      <td>2019-03-30</td>\n",
              "    </tr>\n",
              "    <tr>\n",
              "      <th>ADDRESS</th>\n",
              "      <td>2507</td>\n",
              "      <td>2497</td>\n",
              "      <td>216-29 114TH ROAD</td>\n",
              "      <td>2</td>\n",
              "      <td>NaT</td>\n",
              "      <td>NaT</td>\n",
              "    </tr>\n",
              "  </tbody>\n",
              "</table>\n",
              "</div>"
            ],
            "text/plain": [
              "                               count unique  ...      first       last\n",
              "TAX_CLASS_AT_PRESENT            2507      2  ...        NaT        NaT\n",
              "BOROUGH                         2507      5  ...        NaT        NaT\n",
              "NEIGHBORHOOD                    2507      6  ...        NaT        NaT\n",
              "BUILDING_CLASS_AT_TIME_OF_SALE  2507     11  ...        NaT        NaT\n",
              "BUILDING_CLASS_AT_PRESENT       2507     13  ...        NaT        NaT\n",
              "SALE_DATE                       2507     68  ... 2019-01-01 2019-03-30\n",
              "ADDRESS                         2507   2497  ...        NaT        NaT\n",
              "\n",
              "[7 rows x 6 columns]"
            ]
          },
          "metadata": {
            "tags": []
          },
          "execution_count": 19
        }
      ]
    },
    {
      "cell_type": "code",
      "metadata": {
        "id": "TD9ZlxqsON5q",
        "colab_type": "code",
        "colab": {
          "base_uri": "https://localhost:8080/",
          "height": 266
        },
        "outputId": "9a7d983b-3be6-41e0-c798-66f35a6eef7d"
      },
      "source": [
        "test.describe(exclude='number').T.sort_values(by='unique')"
      ],
      "execution_count": 20,
      "outputs": [
        {
          "output_type": "execute_result",
          "data": {
            "text/html": [
              "<div>\n",
              "<style scoped>\n",
              "    .dataframe tbody tr th:only-of-type {\n",
              "        vertical-align: middle;\n",
              "    }\n",
              "\n",
              "    .dataframe tbody tr th {\n",
              "        vertical-align: top;\n",
              "    }\n",
              "\n",
              "    .dataframe thead th {\n",
              "        text-align: right;\n",
              "    }\n",
              "</style>\n",
              "<table border=\"1\" class=\"dataframe\">\n",
              "  <thead>\n",
              "    <tr style=\"text-align: right;\">\n",
              "      <th></th>\n",
              "      <th>count</th>\n",
              "      <th>unique</th>\n",
              "      <th>top</th>\n",
              "      <th>freq</th>\n",
              "      <th>first</th>\n",
              "      <th>last</th>\n",
              "    </tr>\n",
              "  </thead>\n",
              "  <tbody>\n",
              "    <tr>\n",
              "      <th>TAX_CLASS_AT_PRESENT</th>\n",
              "      <td>644</td>\n",
              "      <td>2</td>\n",
              "      <td>1</td>\n",
              "      <td>635</td>\n",
              "      <td>NaT</td>\n",
              "      <td>NaT</td>\n",
              "    </tr>\n",
              "    <tr>\n",
              "      <th>BOROUGH</th>\n",
              "      <td>644</td>\n",
              "      <td>5</td>\n",
              "      <td>4</td>\n",
              "      <td>376</td>\n",
              "      <td>NaT</td>\n",
              "      <td>NaT</td>\n",
              "    </tr>\n",
              "    <tr>\n",
              "      <th>NEIGHBORHOOD</th>\n",
              "      <td>644</td>\n",
              "      <td>6</td>\n",
              "      <td>OTHER</td>\n",
              "      <td>608</td>\n",
              "      <td>NaT</td>\n",
              "      <td>NaT</td>\n",
              "    </tr>\n",
              "    <tr>\n",
              "      <th>BUILDING_CLASS_AT_TIME_OF_SALE</th>\n",
              "      <td>644</td>\n",
              "      <td>10</td>\n",
              "      <td>A1</td>\n",
              "      <td>267</td>\n",
              "      <td>NaT</td>\n",
              "      <td>NaT</td>\n",
              "    </tr>\n",
              "    <tr>\n",
              "      <th>BUILDING_CLASS_AT_PRESENT</th>\n",
              "      <td>644</td>\n",
              "      <td>11</td>\n",
              "      <td>A1</td>\n",
              "      <td>266</td>\n",
              "      <td>NaT</td>\n",
              "      <td>NaT</td>\n",
              "    </tr>\n",
              "    <tr>\n",
              "      <th>SALE_DATE</th>\n",
              "      <td>644</td>\n",
              "      <td>23</td>\n",
              "      <td>2019-04-15 00:00:00</td>\n",
              "      <td>43</td>\n",
              "      <td>2019-04-01</td>\n",
              "      <td>2019-04-30</td>\n",
              "    </tr>\n",
              "    <tr>\n",
              "      <th>ADDRESS</th>\n",
              "      <td>644</td>\n",
              "      <td>643</td>\n",
              "      <td>46-12 30TH ROAD</td>\n",
              "      <td>2</td>\n",
              "      <td>NaT</td>\n",
              "      <td>NaT</td>\n",
              "    </tr>\n",
              "  </tbody>\n",
              "</table>\n",
              "</div>"
            ],
            "text/plain": [
              "                               count unique  ...      first       last\n",
              "TAX_CLASS_AT_PRESENT             644      2  ...        NaT        NaT\n",
              "BOROUGH                          644      5  ...        NaT        NaT\n",
              "NEIGHBORHOOD                     644      6  ...        NaT        NaT\n",
              "BUILDING_CLASS_AT_TIME_OF_SALE   644     10  ...        NaT        NaT\n",
              "BUILDING_CLASS_AT_PRESENT        644     11  ...        NaT        NaT\n",
              "SALE_DATE                        644     23  ... 2019-04-01 2019-04-30\n",
              "ADDRESS                          644    643  ...        NaT        NaT\n",
              "\n",
              "[7 rows x 6 columns]"
            ]
          },
          "metadata": {
            "tags": []
          },
          "execution_count": 20
        }
      ]
    },
    {
      "cell_type": "code",
      "metadata": {
        "id": "BY5RNTr2QSpG",
        "colab_type": "code",
        "colab": {}
      },
      "source": [
        "categories  = ['NEIGHBORHOOD','BOROUGH','BUILDING_CLASS_AT_TIME_OF_SALE','BUILDING_CLASS_AT_PRESENT','TAX_CLASS_AT_PRESENT']"
      ],
      "execution_count": 0,
      "outputs": []
    },
    {
      "cell_type": "code",
      "metadata": {
        "id": "70IaU27rQoB5",
        "colab_type": "code",
        "colab": {
          "base_uri": "https://localhost:8080/",
          "height": 1000
        },
        "outputId": "b1b5ff8d-b6d0-49fb-aac8-8e10ebbf430f"
      },
      "source": [
        "for each in categories:\n",
        "  print('Category',each,'\\n',train[each].value_counts(),'\\n\\n',\n",
        "        train.groupby(each)['SALE_PRICE'].mean(),'\\n',\n",
        "        train.groupby(each)['SALE_PRICE'].describe())"
      ],
      "execution_count": 22,
      "outputs": [
        {
          "output_type": "stream",
          "text": [
            "Category NEIGHBORHOOD \n",
            " OTHER                 2382\n",
            "FLUSHING-NORTH          77\n",
            "FOREST HILLS            17\n",
            "BOROUGH PARK            12\n",
            "ASTORIA                 11\n",
            "BEDFORD STUYVESANT       8\n",
            "Name: NEIGHBORHOOD, dtype: int64 \n",
            "\n",
            " NEIGHBORHOOD\n",
            "ASTORIA               1.001955e+06\n",
            "BEDFORD STUYVESANT    6.215972e+05\n",
            "BOROUGH PARK          1.008917e+06\n",
            "FLUSHING-NORTH        8.689417e+05\n",
            "FOREST HILLS          1.210753e+06\n",
            "OTHER                 6.056645e+05\n",
            "Name: SALE_PRICE, dtype: float64 \n",
            "                      count          mean  ...        75%        max\n",
            "NEIGHBORHOOD                              ...                      \n",
            "ASTORIA               11.0  1.001955e+06  ...  1180000.0  1600000.0\n",
            "BEDFORD STUYVESANT     8.0  6.215972e+05  ...   860000.0  1128508.0\n",
            "BOROUGH PARK          12.0  1.008917e+06  ...   988500.0  1850000.0\n",
            "FLUSHING-NORTH        77.0  8.689417e+05  ...   930000.0  1695000.0\n",
            "FOREST HILLS          17.0  1.210753e+06  ...  1490000.0  1876000.0\n",
            "OTHER               2382.0  6.056645e+05  ...   720000.0  1955000.0\n",
            "\n",
            "[6 rows x 8 columns]\n",
            "Category BOROUGH \n",
            " 4    1204\n",
            "5     662\n",
            "3     398\n",
            "2     242\n",
            "1       1\n",
            "Name: BOROUGH, dtype: int64 \n",
            "\n",
            " BOROUGH\n",
            "1    739000.000000\n",
            "2    473104.623967\n",
            "3    768734.633166\n",
            "4    649005.172757\n",
            "5    537305.802115\n",
            "Name: SALE_PRICE, dtype: float64 \n",
            "           count           mean            std  ...       50%       75%        max\n",
            "BOROUGH                                        ...                               \n",
            "1           1.0  739000.000000            NaN  ...  739000.0  739000.0   739000.0\n",
            "2         242.0  473104.623967  184647.130460  ...  465000.0  550000.0  1750000.0\n",
            "3         398.0  768734.633166  366138.391194  ...  676421.5  930000.0  1955000.0\n",
            "4        1204.0  649005.172757  289512.945057  ...  601500.0  815000.0  1876000.0\n",
            "5         662.0  537305.802115  217441.137801  ...  520000.0  617250.0  1850000.0\n",
            "\n",
            "[5 rows x 8 columns]\n",
            "Category BUILDING_CLASS_AT_TIME_OF_SALE \n",
            " A1    919\n",
            "A5    779\n",
            "A2    413\n",
            "A9    193\n",
            "A0     67\n",
            "S1     39\n",
            "A3     38\n",
            "A8     31\n",
            "A6     14\n",
            "A4     13\n",
            "S0      1\n",
            "Name: BUILDING_CLASS_AT_TIME_OF_SALE, dtype: int64 \n",
            "\n",
            " BUILDING_CLASS_AT_TIME_OF_SALE\n",
            "A0    6.884526e+05\n",
            "A1    6.410574e+05\n",
            "A2    5.991551e+05\n",
            "A3    1.199412e+06\n",
            "A4    9.254561e+05\n",
            "A5    5.718045e+05\n",
            "A6    2.344273e+05\n",
            "A8    3.929000e+05\n",
            "A9    6.311994e+05\n",
            "S0    1.925000e+06\n",
            "S1    8.544496e+05\n",
            "Name: SALE_PRICE, dtype: float64 \n",
            "                                 count          mean  ...        75%        max\n",
            "BUILDING_CLASS_AT_TIME_OF_SALE                       ...                      \n",
            "A0                               67.0  6.884526e+05  ...   833500.0  1200000.0\n",
            "A1                              919.0  6.410574e+05  ...   773750.0  1955000.0\n",
            "A2                              413.0  5.991551e+05  ...   790000.0  1614600.0\n",
            "A3                               38.0  1.199412e+06  ...  1528750.0  1876000.0\n",
            "A4                               13.0  9.254561e+05  ...  1200000.0  1573500.0\n",
            "A5                              779.0  5.718045e+05  ...   689444.0  1775000.0\n",
            "A6                               14.0  2.344273e+05  ...   266500.0   399888.0\n",
            "A8                               31.0  3.929000e+05  ...   462500.0   820000.0\n",
            "A9                              193.0  6.311994e+05  ...   760000.0  1850000.0\n",
            "S0                                1.0  1.925000e+06  ...  1925000.0  1925000.0\n",
            "S1                               39.0  8.544496e+05  ...  1175000.0  1870000.0\n",
            "\n",
            "[11 rows x 8 columns]\n",
            "Category BUILDING_CLASS_AT_PRESENT \n",
            " A1    919\n",
            "A5    779\n",
            "A2    411\n",
            "A9    193\n",
            "A0     67\n",
            "S1     39\n",
            "A3     38\n",
            "A8     31\n",
            "A6     14\n",
            "A4     13\n",
            "B2      1\n",
            "S0      1\n",
            "B3      1\n",
            "Name: BUILDING_CLASS_AT_PRESENT, dtype: int64 \n",
            "\n",
            " BUILDING_CLASS_AT_PRESENT\n",
            "A0    6.884526e+05\n",
            "A1    6.410574e+05\n",
            "A2    5.980673e+05\n",
            "A3    1.199412e+06\n",
            "A4    9.254561e+05\n",
            "A5    5.716279e+05\n",
            "A6    2.344273e+05\n",
            "A8    3.929000e+05\n",
            "A9    6.311994e+05\n",
            "B2    8.300000e+05\n",
            "B3    9.530000e+05\n",
            "S0    1.925000e+06\n",
            "S1    8.544496e+05\n",
            "Name: SALE_PRICE, dtype: float64 \n",
            "                            count          mean  ...        75%        max\n",
            "BUILDING_CLASS_AT_PRESENT                       ...                      \n",
            "A0                          67.0  6.884526e+05  ...   833500.0  1200000.0\n",
            "A1                         919.0  6.410574e+05  ...   773750.0  1955000.0\n",
            "A2                         411.0  5.980673e+05  ...   785000.0  1614600.0\n",
            "A3                          38.0  1.199412e+06  ...  1528750.0  1876000.0\n",
            "A4                          13.0  9.254561e+05  ...  1200000.0  1573500.0\n",
            "A5                         779.0  5.716279e+05  ...   689444.0  1775000.0\n",
            "A6                          14.0  2.344273e+05  ...   266500.0   399888.0\n",
            "A8                          31.0  3.929000e+05  ...   462500.0   820000.0\n",
            "A9                         193.0  6.311994e+05  ...   760000.0  1850000.0\n",
            "B2                           1.0  8.300000e+05  ...   830000.0   830000.0\n",
            "B3                           1.0  9.530000e+05  ...   953000.0   953000.0\n",
            "S0                           1.0  1.925000e+06  ...  1925000.0  1925000.0\n",
            "S1                          39.0  8.544496e+05  ...  1175000.0  1870000.0\n",
            "\n",
            "[13 rows x 8 columns]\n",
            "Category TAX_CLASS_AT_PRESENT \n",
            " 1     2476\n",
            "1D      31\n",
            "Name: TAX_CLASS_AT_PRESENT, dtype: int64 \n",
            "\n",
            " TAX_CLASS_AT_PRESENT\n",
            "1     624436.781906\n",
            "1D    392900.000000\n",
            "Name: SALE_PRICE, dtype: float64 \n",
            "                        count           mean  ...       75%        max\n",
            "TAX_CLASS_AT_PRESENT                         ...                     \n",
            "1                     2476.0  624436.781906  ...  750000.0  1955000.0\n",
            "1D                      31.0  392900.000000  ...  462500.0   820000.0\n",
            "\n",
            "[2 rows x 8 columns]\n"
          ],
          "name": "stdout"
        }
      ]
    },
    {
      "cell_type": "code",
      "metadata": {
        "id": "NV-4gtbiIjL2",
        "colab_type": "code",
        "colab": {}
      },
      "source": [
        "target = 'SALE_PRICE'\n",
        "features = ['NEIGHBORHOOD','BOROUGH','BUILDING_CLASS_AT_TIME_OF_SALE',\n",
        "            'BUILDING_CLASS_AT_PRESENT','TAX_CLASS_AT_PRESENT','BLOCK','LOT',\n",
        "            'ZIP_CODE','RESIDENTIAL_UNITS','COMMERCIAL_UNITS','TOTAL_UNITS',\n",
        "            'LAND_SQUARE_FEET','GROSS_SQUARE_FEET','YEAR_BUILT']\n",
        "X_train = train[features]\n",
        "y_train = train[target]\n",
        "X_test = test[features]\n",
        "y_test = test[target]\n",
        "encoder = ce.OneHotEncoder(use_cat_names=True)\n",
        "X_train = encoder.fit_transform(X_train)\n",
        "X_test = encoder.transform(X_test)"
      ],
      "execution_count": 0,
      "outputs": []
    },
    {
      "cell_type": "code",
      "metadata": {
        "id": "T7xWzBRjJBv-",
        "colab_type": "code",
        "colab": {
          "base_uri": "https://localhost:8080/",
          "height": 241
        },
        "outputId": "6fc908d7-82f1-4764-a3f0-6418bf579ced"
      },
      "source": [
        "X_train.head()"
      ],
      "execution_count": 24,
      "outputs": [
        {
          "output_type": "execute_result",
          "data": {
            "text/html": [
              "<div>\n",
              "<style scoped>\n",
              "    .dataframe tbody tr th:only-of-type {\n",
              "        vertical-align: middle;\n",
              "    }\n",
              "\n",
              "    .dataframe tbody tr th {\n",
              "        vertical-align: top;\n",
              "    }\n",
              "\n",
              "    .dataframe thead th {\n",
              "        text-align: right;\n",
              "    }\n",
              "</style>\n",
              "<table border=\"1\" class=\"dataframe\">\n",
              "  <thead>\n",
              "    <tr style=\"text-align: right;\">\n",
              "      <th></th>\n",
              "      <th>NEIGHBORHOOD_OTHER</th>\n",
              "      <th>NEIGHBORHOOD_FLUSHING-NORTH</th>\n",
              "      <th>NEIGHBORHOOD_BEDFORD STUYVESANT</th>\n",
              "      <th>NEIGHBORHOOD_FOREST HILLS</th>\n",
              "      <th>NEIGHBORHOOD_BOROUGH PARK</th>\n",
              "      <th>NEIGHBORHOOD_ASTORIA</th>\n",
              "      <th>BOROUGH_3</th>\n",
              "      <th>BOROUGH_4</th>\n",
              "      <th>BOROUGH_2</th>\n",
              "      <th>BOROUGH_5</th>\n",
              "      <th>BOROUGH_1</th>\n",
              "      <th>BUILDING_CLASS_AT_TIME_OF_SALE_A9</th>\n",
              "      <th>BUILDING_CLASS_AT_TIME_OF_SALE_A1</th>\n",
              "      <th>BUILDING_CLASS_AT_TIME_OF_SALE_A5</th>\n",
              "      <th>BUILDING_CLASS_AT_TIME_OF_SALE_A0</th>\n",
              "      <th>BUILDING_CLASS_AT_TIME_OF_SALE_A2</th>\n",
              "      <th>BUILDING_CLASS_AT_TIME_OF_SALE_A3</th>\n",
              "      <th>BUILDING_CLASS_AT_TIME_OF_SALE_S1</th>\n",
              "      <th>BUILDING_CLASS_AT_TIME_OF_SALE_A4</th>\n",
              "      <th>BUILDING_CLASS_AT_TIME_OF_SALE_A6</th>\n",
              "      <th>BUILDING_CLASS_AT_TIME_OF_SALE_A8</th>\n",
              "      <th>BUILDING_CLASS_AT_TIME_OF_SALE_S0</th>\n",
              "      <th>BUILDING_CLASS_AT_PRESENT_A9</th>\n",
              "      <th>BUILDING_CLASS_AT_PRESENT_A1</th>\n",
              "      <th>BUILDING_CLASS_AT_PRESENT_A5</th>\n",
              "      <th>BUILDING_CLASS_AT_PRESENT_A0</th>\n",
              "      <th>BUILDING_CLASS_AT_PRESENT_A2</th>\n",
              "      <th>BUILDING_CLASS_AT_PRESENT_A3</th>\n",
              "      <th>BUILDING_CLASS_AT_PRESENT_S1</th>\n",
              "      <th>BUILDING_CLASS_AT_PRESENT_A4</th>\n",
              "      <th>BUILDING_CLASS_AT_PRESENT_A6</th>\n",
              "      <th>BUILDING_CLASS_AT_PRESENT_A8</th>\n",
              "      <th>BUILDING_CLASS_AT_PRESENT_B2</th>\n",
              "      <th>BUILDING_CLASS_AT_PRESENT_S0</th>\n",
              "      <th>BUILDING_CLASS_AT_PRESENT_B3</th>\n",
              "      <th>TAX_CLASS_AT_PRESENT_1</th>\n",
              "      <th>TAX_CLASS_AT_PRESENT_1D</th>\n",
              "      <th>BLOCK</th>\n",
              "      <th>LOT</th>\n",
              "      <th>ZIP_CODE</th>\n",
              "      <th>RESIDENTIAL_UNITS</th>\n",
              "      <th>COMMERCIAL_UNITS</th>\n",
              "      <th>TOTAL_UNITS</th>\n",
              "      <th>LAND_SQUARE_FEET</th>\n",
              "      <th>GROSS_SQUARE_FEET</th>\n",
              "      <th>YEAR_BUILT</th>\n",
              "    </tr>\n",
              "  </thead>\n",
              "  <tbody>\n",
              "    <tr>\n",
              "      <th>0</th>\n",
              "      <td>1</td>\n",
              "      <td>0</td>\n",
              "      <td>0</td>\n",
              "      <td>0</td>\n",
              "      <td>0</td>\n",
              "      <td>0</td>\n",
              "      <td>1</td>\n",
              "      <td>0</td>\n",
              "      <td>0</td>\n",
              "      <td>0</td>\n",
              "      <td>0</td>\n",
              "      <td>1</td>\n",
              "      <td>0</td>\n",
              "      <td>0</td>\n",
              "      <td>0</td>\n",
              "      <td>0</td>\n",
              "      <td>0</td>\n",
              "      <td>0</td>\n",
              "      <td>0</td>\n",
              "      <td>0</td>\n",
              "      <td>0</td>\n",
              "      <td>0</td>\n",
              "      <td>1</td>\n",
              "      <td>0</td>\n",
              "      <td>0</td>\n",
              "      <td>0</td>\n",
              "      <td>0</td>\n",
              "      <td>0</td>\n",
              "      <td>0</td>\n",
              "      <td>0</td>\n",
              "      <td>0</td>\n",
              "      <td>0</td>\n",
              "      <td>0</td>\n",
              "      <td>0</td>\n",
              "      <td>0</td>\n",
              "      <td>1</td>\n",
              "      <td>0</td>\n",
              "      <td>5495</td>\n",
              "      <td>801</td>\n",
              "      <td>11230.0</td>\n",
              "      <td>1.0</td>\n",
              "      <td>0.0</td>\n",
              "      <td>1.0</td>\n",
              "      <td>6800</td>\n",
              "      <td>1325.0</td>\n",
              "      <td>1930.0</td>\n",
              "    </tr>\n",
              "    <tr>\n",
              "      <th>1</th>\n",
              "      <td>1</td>\n",
              "      <td>0</td>\n",
              "      <td>0</td>\n",
              "      <td>0</td>\n",
              "      <td>0</td>\n",
              "      <td>0</td>\n",
              "      <td>0</td>\n",
              "      <td>1</td>\n",
              "      <td>0</td>\n",
              "      <td>0</td>\n",
              "      <td>0</td>\n",
              "      <td>0</td>\n",
              "      <td>1</td>\n",
              "      <td>0</td>\n",
              "      <td>0</td>\n",
              "      <td>0</td>\n",
              "      <td>0</td>\n",
              "      <td>0</td>\n",
              "      <td>0</td>\n",
              "      <td>0</td>\n",
              "      <td>0</td>\n",
              "      <td>0</td>\n",
              "      <td>0</td>\n",
              "      <td>1</td>\n",
              "      <td>0</td>\n",
              "      <td>0</td>\n",
              "      <td>0</td>\n",
              "      <td>0</td>\n",
              "      <td>0</td>\n",
              "      <td>0</td>\n",
              "      <td>0</td>\n",
              "      <td>0</td>\n",
              "      <td>0</td>\n",
              "      <td>0</td>\n",
              "      <td>0</td>\n",
              "      <td>1</td>\n",
              "      <td>0</td>\n",
              "      <td>7918</td>\n",
              "      <td>72</td>\n",
              "      <td>11427.0</td>\n",
              "      <td>1.0</td>\n",
              "      <td>0.0</td>\n",
              "      <td>1.0</td>\n",
              "      <td>4000</td>\n",
              "      <td>2001.0</td>\n",
              "      <td>1940.0</td>\n",
              "    </tr>\n",
              "    <tr>\n",
              "      <th>2</th>\n",
              "      <td>1</td>\n",
              "      <td>0</td>\n",
              "      <td>0</td>\n",
              "      <td>0</td>\n",
              "      <td>0</td>\n",
              "      <td>0</td>\n",
              "      <td>0</td>\n",
              "      <td>0</td>\n",
              "      <td>1</td>\n",
              "      <td>0</td>\n",
              "      <td>0</td>\n",
              "      <td>0</td>\n",
              "      <td>1</td>\n",
              "      <td>0</td>\n",
              "      <td>0</td>\n",
              "      <td>0</td>\n",
              "      <td>0</td>\n",
              "      <td>0</td>\n",
              "      <td>0</td>\n",
              "      <td>0</td>\n",
              "      <td>0</td>\n",
              "      <td>0</td>\n",
              "      <td>0</td>\n",
              "      <td>1</td>\n",
              "      <td>0</td>\n",
              "      <td>0</td>\n",
              "      <td>0</td>\n",
              "      <td>0</td>\n",
              "      <td>0</td>\n",
              "      <td>0</td>\n",
              "      <td>0</td>\n",
              "      <td>0</td>\n",
              "      <td>0</td>\n",
              "      <td>0</td>\n",
              "      <td>0</td>\n",
              "      <td>1</td>\n",
              "      <td>0</td>\n",
              "      <td>4210</td>\n",
              "      <td>19</td>\n",
              "      <td>10461.0</td>\n",
              "      <td>1.0</td>\n",
              "      <td>0.0</td>\n",
              "      <td>1.0</td>\n",
              "      <td>3500</td>\n",
              "      <td>2043.0</td>\n",
              "      <td>1925.0</td>\n",
              "    </tr>\n",
              "    <tr>\n",
              "      <th>3</th>\n",
              "      <td>1</td>\n",
              "      <td>0</td>\n",
              "      <td>0</td>\n",
              "      <td>0</td>\n",
              "      <td>0</td>\n",
              "      <td>0</td>\n",
              "      <td>1</td>\n",
              "      <td>0</td>\n",
              "      <td>0</td>\n",
              "      <td>0</td>\n",
              "      <td>0</td>\n",
              "      <td>0</td>\n",
              "      <td>1</td>\n",
              "      <td>0</td>\n",
              "      <td>0</td>\n",
              "      <td>0</td>\n",
              "      <td>0</td>\n",
              "      <td>0</td>\n",
              "      <td>0</td>\n",
              "      <td>0</td>\n",
              "      <td>0</td>\n",
              "      <td>0</td>\n",
              "      <td>0</td>\n",
              "      <td>1</td>\n",
              "      <td>0</td>\n",
              "      <td>0</td>\n",
              "      <td>0</td>\n",
              "      <td>0</td>\n",
              "      <td>0</td>\n",
              "      <td>0</td>\n",
              "      <td>0</td>\n",
              "      <td>0</td>\n",
              "      <td>0</td>\n",
              "      <td>0</td>\n",
              "      <td>0</td>\n",
              "      <td>1</td>\n",
              "      <td>0</td>\n",
              "      <td>5212</td>\n",
              "      <td>69</td>\n",
              "      <td>11226.0</td>\n",
              "      <td>1.0</td>\n",
              "      <td>0.0</td>\n",
              "      <td>1.0</td>\n",
              "      <td>4000</td>\n",
              "      <td>2680.0</td>\n",
              "      <td>1899.0</td>\n",
              "    </tr>\n",
              "    <tr>\n",
              "      <th>4</th>\n",
              "      <td>1</td>\n",
              "      <td>0</td>\n",
              "      <td>0</td>\n",
              "      <td>0</td>\n",
              "      <td>0</td>\n",
              "      <td>0</td>\n",
              "      <td>1</td>\n",
              "      <td>0</td>\n",
              "      <td>0</td>\n",
              "      <td>0</td>\n",
              "      <td>0</td>\n",
              "      <td>0</td>\n",
              "      <td>0</td>\n",
              "      <td>1</td>\n",
              "      <td>0</td>\n",
              "      <td>0</td>\n",
              "      <td>0</td>\n",
              "      <td>0</td>\n",
              "      <td>0</td>\n",
              "      <td>0</td>\n",
              "      <td>0</td>\n",
              "      <td>0</td>\n",
              "      <td>0</td>\n",
              "      <td>0</td>\n",
              "      <td>1</td>\n",
              "      <td>0</td>\n",
              "      <td>0</td>\n",
              "      <td>0</td>\n",
              "      <td>0</td>\n",
              "      <td>0</td>\n",
              "      <td>0</td>\n",
              "      <td>0</td>\n",
              "      <td>0</td>\n",
              "      <td>0</td>\n",
              "      <td>0</td>\n",
              "      <td>1</td>\n",
              "      <td>0</td>\n",
              "      <td>7930</td>\n",
              "      <td>121</td>\n",
              "      <td>11203.0</td>\n",
              "      <td>1.0</td>\n",
              "      <td>0.0</td>\n",
              "      <td>1.0</td>\n",
              "      <td>1710</td>\n",
              "      <td>1872.0</td>\n",
              "      <td>1940.0</td>\n",
              "    </tr>\n",
              "  </tbody>\n",
              "</table>\n",
              "</div>"
            ],
            "text/plain": [
              "   NEIGHBORHOOD_OTHER  ...  YEAR_BUILT\n",
              "0                   1  ...      1930.0\n",
              "1                   1  ...      1940.0\n",
              "2                   1  ...      1925.0\n",
              "3                   1  ...      1899.0\n",
              "4                   1  ...      1940.0\n",
              "\n",
              "[5 rows x 46 columns]"
            ]
          },
          "metadata": {
            "tags": []
          },
          "execution_count": 24
        }
      ]
    },
    {
      "cell_type": "code",
      "metadata": {
        "id": "4VBOf4zcLlfP",
        "colab_type": "code",
        "colab": {
          "base_uri": "https://localhost:8080/",
          "height": 241
        },
        "outputId": "d5e74354-30f9-42d2-f95c-feffdfdbcd20"
      },
      "source": [
        "X_test.head()"
      ],
      "execution_count": 25,
      "outputs": [
        {
          "output_type": "execute_result",
          "data": {
            "text/html": [
              "<div>\n",
              "<style scoped>\n",
              "    .dataframe tbody tr th:only-of-type {\n",
              "        vertical-align: middle;\n",
              "    }\n",
              "\n",
              "    .dataframe tbody tr th {\n",
              "        vertical-align: top;\n",
              "    }\n",
              "\n",
              "    .dataframe thead th {\n",
              "        text-align: right;\n",
              "    }\n",
              "</style>\n",
              "<table border=\"1\" class=\"dataframe\">\n",
              "  <thead>\n",
              "    <tr style=\"text-align: right;\">\n",
              "      <th></th>\n",
              "      <th>NEIGHBORHOOD_OTHER</th>\n",
              "      <th>NEIGHBORHOOD_FLUSHING-NORTH</th>\n",
              "      <th>NEIGHBORHOOD_BEDFORD STUYVESANT</th>\n",
              "      <th>NEIGHBORHOOD_FOREST HILLS</th>\n",
              "      <th>NEIGHBORHOOD_BOROUGH PARK</th>\n",
              "      <th>NEIGHBORHOOD_ASTORIA</th>\n",
              "      <th>BOROUGH_3</th>\n",
              "      <th>BOROUGH_4</th>\n",
              "      <th>BOROUGH_2</th>\n",
              "      <th>BOROUGH_5</th>\n",
              "      <th>BOROUGH_1</th>\n",
              "      <th>BUILDING_CLASS_AT_TIME_OF_SALE_A9</th>\n",
              "      <th>BUILDING_CLASS_AT_TIME_OF_SALE_A1</th>\n",
              "      <th>BUILDING_CLASS_AT_TIME_OF_SALE_A5</th>\n",
              "      <th>BUILDING_CLASS_AT_TIME_OF_SALE_A0</th>\n",
              "      <th>BUILDING_CLASS_AT_TIME_OF_SALE_A2</th>\n",
              "      <th>BUILDING_CLASS_AT_TIME_OF_SALE_A3</th>\n",
              "      <th>BUILDING_CLASS_AT_TIME_OF_SALE_S1</th>\n",
              "      <th>BUILDING_CLASS_AT_TIME_OF_SALE_A4</th>\n",
              "      <th>BUILDING_CLASS_AT_TIME_OF_SALE_A6</th>\n",
              "      <th>BUILDING_CLASS_AT_TIME_OF_SALE_A8</th>\n",
              "      <th>BUILDING_CLASS_AT_TIME_OF_SALE_S0</th>\n",
              "      <th>BUILDING_CLASS_AT_PRESENT_A9</th>\n",
              "      <th>BUILDING_CLASS_AT_PRESENT_A1</th>\n",
              "      <th>BUILDING_CLASS_AT_PRESENT_A5</th>\n",
              "      <th>BUILDING_CLASS_AT_PRESENT_A0</th>\n",
              "      <th>BUILDING_CLASS_AT_PRESENT_A2</th>\n",
              "      <th>BUILDING_CLASS_AT_PRESENT_A3</th>\n",
              "      <th>BUILDING_CLASS_AT_PRESENT_S1</th>\n",
              "      <th>BUILDING_CLASS_AT_PRESENT_A4</th>\n",
              "      <th>BUILDING_CLASS_AT_PRESENT_A6</th>\n",
              "      <th>BUILDING_CLASS_AT_PRESENT_A8</th>\n",
              "      <th>BUILDING_CLASS_AT_PRESENT_B2</th>\n",
              "      <th>BUILDING_CLASS_AT_PRESENT_S0</th>\n",
              "      <th>BUILDING_CLASS_AT_PRESENT_B3</th>\n",
              "      <th>TAX_CLASS_AT_PRESENT_1</th>\n",
              "      <th>TAX_CLASS_AT_PRESENT_1D</th>\n",
              "      <th>BLOCK</th>\n",
              "      <th>LOT</th>\n",
              "      <th>ZIP_CODE</th>\n",
              "      <th>RESIDENTIAL_UNITS</th>\n",
              "      <th>COMMERCIAL_UNITS</th>\n",
              "      <th>TOTAL_UNITS</th>\n",
              "      <th>LAND_SQUARE_FEET</th>\n",
              "      <th>GROSS_SQUARE_FEET</th>\n",
              "      <th>YEAR_BUILT</th>\n",
              "    </tr>\n",
              "  </thead>\n",
              "  <tbody>\n",
              "    <tr>\n",
              "      <th>0</th>\n",
              "      <td>1</td>\n",
              "      <td>0</td>\n",
              "      <td>0</td>\n",
              "      <td>0</td>\n",
              "      <td>0</td>\n",
              "      <td>0</td>\n",
              "      <td>0</td>\n",
              "      <td>0</td>\n",
              "      <td>1</td>\n",
              "      <td>0</td>\n",
              "      <td>0</td>\n",
              "      <td>0</td>\n",
              "      <td>1</td>\n",
              "      <td>0</td>\n",
              "      <td>0</td>\n",
              "      <td>0</td>\n",
              "      <td>0</td>\n",
              "      <td>0</td>\n",
              "      <td>0</td>\n",
              "      <td>0</td>\n",
              "      <td>0</td>\n",
              "      <td>0</td>\n",
              "      <td>0</td>\n",
              "      <td>1</td>\n",
              "      <td>0</td>\n",
              "      <td>0</td>\n",
              "      <td>0</td>\n",
              "      <td>0</td>\n",
              "      <td>0</td>\n",
              "      <td>0</td>\n",
              "      <td>0</td>\n",
              "      <td>0</td>\n",
              "      <td>0</td>\n",
              "      <td>0</td>\n",
              "      <td>0</td>\n",
              "      <td>1</td>\n",
              "      <td>0</td>\n",
              "      <td>5913</td>\n",
              "      <td>878</td>\n",
              "      <td>10471.0</td>\n",
              "      <td>1.0</td>\n",
              "      <td>0.0</td>\n",
              "      <td>1.0</td>\n",
              "      <td>5000</td>\n",
              "      <td>2272.0</td>\n",
              "      <td>1930.0</td>\n",
              "    </tr>\n",
              "    <tr>\n",
              "      <th>1</th>\n",
              "      <td>1</td>\n",
              "      <td>0</td>\n",
              "      <td>0</td>\n",
              "      <td>0</td>\n",
              "      <td>0</td>\n",
              "      <td>0</td>\n",
              "      <td>0</td>\n",
              "      <td>0</td>\n",
              "      <td>1</td>\n",
              "      <td>0</td>\n",
              "      <td>0</td>\n",
              "      <td>0</td>\n",
              "      <td>0</td>\n",
              "      <td>0</td>\n",
              "      <td>0</td>\n",
              "      <td>1</td>\n",
              "      <td>0</td>\n",
              "      <td>0</td>\n",
              "      <td>0</td>\n",
              "      <td>0</td>\n",
              "      <td>0</td>\n",
              "      <td>0</td>\n",
              "      <td>0</td>\n",
              "      <td>0</td>\n",
              "      <td>0</td>\n",
              "      <td>0</td>\n",
              "      <td>1</td>\n",
              "      <td>0</td>\n",
              "      <td>0</td>\n",
              "      <td>0</td>\n",
              "      <td>0</td>\n",
              "      <td>0</td>\n",
              "      <td>0</td>\n",
              "      <td>0</td>\n",
              "      <td>0</td>\n",
              "      <td>1</td>\n",
              "      <td>0</td>\n",
              "      <td>5488</td>\n",
              "      <td>48</td>\n",
              "      <td>10465.0</td>\n",
              "      <td>1.0</td>\n",
              "      <td>0.0</td>\n",
              "      <td>1.0</td>\n",
              "      <td>2500</td>\n",
              "      <td>720.0</td>\n",
              "      <td>1935.0</td>\n",
              "    </tr>\n",
              "    <tr>\n",
              "      <th>2</th>\n",
              "      <td>1</td>\n",
              "      <td>0</td>\n",
              "      <td>0</td>\n",
              "      <td>0</td>\n",
              "      <td>0</td>\n",
              "      <td>0</td>\n",
              "      <td>1</td>\n",
              "      <td>0</td>\n",
              "      <td>0</td>\n",
              "      <td>0</td>\n",
              "      <td>0</td>\n",
              "      <td>0</td>\n",
              "      <td>1</td>\n",
              "      <td>0</td>\n",
              "      <td>0</td>\n",
              "      <td>0</td>\n",
              "      <td>0</td>\n",
              "      <td>0</td>\n",
              "      <td>0</td>\n",
              "      <td>0</td>\n",
              "      <td>0</td>\n",
              "      <td>0</td>\n",
              "      <td>0</td>\n",
              "      <td>1</td>\n",
              "      <td>0</td>\n",
              "      <td>0</td>\n",
              "      <td>0</td>\n",
              "      <td>0</td>\n",
              "      <td>0</td>\n",
              "      <td>0</td>\n",
              "      <td>0</td>\n",
              "      <td>0</td>\n",
              "      <td>0</td>\n",
              "      <td>0</td>\n",
              "      <td>0</td>\n",
              "      <td>1</td>\n",
              "      <td>0</td>\n",
              "      <td>5936</td>\n",
              "      <td>31</td>\n",
              "      <td>11209.0</td>\n",
              "      <td>1.0</td>\n",
              "      <td>0.0</td>\n",
              "      <td>1.0</td>\n",
              "      <td>2880</td>\n",
              "      <td>2210.0</td>\n",
              "      <td>1925.0</td>\n",
              "    </tr>\n",
              "    <tr>\n",
              "      <th>3</th>\n",
              "      <td>1</td>\n",
              "      <td>0</td>\n",
              "      <td>0</td>\n",
              "      <td>0</td>\n",
              "      <td>0</td>\n",
              "      <td>0</td>\n",
              "      <td>1</td>\n",
              "      <td>0</td>\n",
              "      <td>0</td>\n",
              "      <td>0</td>\n",
              "      <td>0</td>\n",
              "      <td>0</td>\n",
              "      <td>0</td>\n",
              "      <td>1</td>\n",
              "      <td>0</td>\n",
              "      <td>0</td>\n",
              "      <td>0</td>\n",
              "      <td>0</td>\n",
              "      <td>0</td>\n",
              "      <td>0</td>\n",
              "      <td>0</td>\n",
              "      <td>0</td>\n",
              "      <td>0</td>\n",
              "      <td>0</td>\n",
              "      <td>1</td>\n",
              "      <td>0</td>\n",
              "      <td>0</td>\n",
              "      <td>0</td>\n",
              "      <td>0</td>\n",
              "      <td>0</td>\n",
              "      <td>0</td>\n",
              "      <td>0</td>\n",
              "      <td>0</td>\n",
              "      <td>0</td>\n",
              "      <td>0</td>\n",
              "      <td>1</td>\n",
              "      <td>0</td>\n",
              "      <td>7813</td>\n",
              "      <td>24</td>\n",
              "      <td>11210.0</td>\n",
              "      <td>1.0</td>\n",
              "      <td>0.0</td>\n",
              "      <td>1.0</td>\n",
              "      <td>1305</td>\n",
              "      <td>1520.0</td>\n",
              "      <td>1915.0</td>\n",
              "    </tr>\n",
              "    <tr>\n",
              "      <th>4</th>\n",
              "      <td>1</td>\n",
              "      <td>0</td>\n",
              "      <td>0</td>\n",
              "      <td>0</td>\n",
              "      <td>0</td>\n",
              "      <td>0</td>\n",
              "      <td>1</td>\n",
              "      <td>0</td>\n",
              "      <td>0</td>\n",
              "      <td>0</td>\n",
              "      <td>0</td>\n",
              "      <td>1</td>\n",
              "      <td>0</td>\n",
              "      <td>0</td>\n",
              "      <td>0</td>\n",
              "      <td>0</td>\n",
              "      <td>0</td>\n",
              "      <td>0</td>\n",
              "      <td>0</td>\n",
              "      <td>0</td>\n",
              "      <td>0</td>\n",
              "      <td>0</td>\n",
              "      <td>1</td>\n",
              "      <td>0</td>\n",
              "      <td>0</td>\n",
              "      <td>0</td>\n",
              "      <td>0</td>\n",
              "      <td>0</td>\n",
              "      <td>0</td>\n",
              "      <td>0</td>\n",
              "      <td>0</td>\n",
              "      <td>0</td>\n",
              "      <td>0</td>\n",
              "      <td>0</td>\n",
              "      <td>0</td>\n",
              "      <td>1</td>\n",
              "      <td>0</td>\n",
              "      <td>8831</td>\n",
              "      <td>160</td>\n",
              "      <td>11229.0</td>\n",
              "      <td>1.0</td>\n",
              "      <td>0.0</td>\n",
              "      <td>1.0</td>\n",
              "      <td>1800</td>\n",
              "      <td>840.0</td>\n",
              "      <td>1925.0</td>\n",
              "    </tr>\n",
              "  </tbody>\n",
              "</table>\n",
              "</div>"
            ],
            "text/plain": [
              "   NEIGHBORHOOD_OTHER  ...  YEAR_BUILT\n",
              "0                   1  ...      1930.0\n",
              "1                   1  ...      1935.0\n",
              "2                   1  ...      1925.0\n",
              "3                   1  ...      1915.0\n",
              "4                   1  ...      1925.0\n",
              "\n",
              "[5 rows x 46 columns]"
            ]
          },
          "metadata": {
            "tags": []
          },
          "execution_count": 25
        }
      ]
    },
    {
      "cell_type": "code",
      "metadata": {
        "id": "VIwvr2DPL6Vw",
        "colab_type": "code",
        "colab": {
          "base_uri": "https://localhost:8080/",
          "height": 34
        },
        "outputId": "57fb93e3-e8c0-4d13-cf9b-ec33a693c593"
      },
      "source": [
        "features = X_train.columns\n",
        "n = len(features)\n",
        "print(n)"
      ],
      "execution_count": 26,
      "outputs": [
        {
          "output_type": "stream",
          "text": [
            "46\n"
          ],
          "name": "stdout"
        }
      ]
    },
    {
      "cell_type": "markdown",
      "metadata": {
        "id": "4M4T9DPSTq41",
        "colab_type": "text"
      },
      "source": [
        "### K is 29, Reduced for memory"
      ]
    },
    {
      "cell_type": "code",
      "metadata": {
        "id": "rQ2rtI3UM6hp",
        "colab_type": "code",
        "colab": {
          "base_uri": "https://localhost:8080/",
          "height": 850
        },
        "outputId": "3b927311-0e40-44d0-fde1-f6265b5dfd3f"
      },
      "source": [
        "selector = SelectKBest(score_func=f_regression, k=4)\n",
        "X_train_selected = selector.fit_transform(X_train, y_train)\n",
        "X_test_selected = selector.transform(X_test)\n",
        "X_train_selected.shape, X_test_selected.shape\n",
        "selected_mask = selector.get_support()\n",
        "all_names = X_train.columns\n",
        "selected_names = all_names[selected_mask]\n",
        "unselected_names = all_names[~selected_mask]\n",
        "\n",
        "print('Features selected:')\n",
        "for name in selected_names:\n",
        "    print(name)\n",
        "\n",
        "print('\\nFeatures not selected:')\n",
        "for name in unselected_names:\n",
        "    print(name)"
      ],
      "execution_count": 27,
      "outputs": [
        {
          "output_type": "stream",
          "text": [
            "Features selected:\n",
            "BUILDING_CLASS_AT_TIME_OF_SALE_A3\n",
            "BUILDING_CLASS_AT_PRESENT_A3\n",
            "LAND_SQUARE_FEET\n",
            "GROSS_SQUARE_FEET\n",
            "\n",
            "Features not selected:\n",
            "NEIGHBORHOOD_OTHER\n",
            "NEIGHBORHOOD_FLUSHING-NORTH\n",
            "NEIGHBORHOOD_BEDFORD STUYVESANT\n",
            "NEIGHBORHOOD_FOREST HILLS\n",
            "NEIGHBORHOOD_BOROUGH PARK\n",
            "NEIGHBORHOOD_ASTORIA\n",
            "BOROUGH_3\n",
            "BOROUGH_4\n",
            "BOROUGH_2\n",
            "BOROUGH_5\n",
            "BOROUGH_1\n",
            "BUILDING_CLASS_AT_TIME_OF_SALE_A9\n",
            "BUILDING_CLASS_AT_TIME_OF_SALE_A1\n",
            "BUILDING_CLASS_AT_TIME_OF_SALE_A5\n",
            "BUILDING_CLASS_AT_TIME_OF_SALE_A0\n",
            "BUILDING_CLASS_AT_TIME_OF_SALE_A2\n",
            "BUILDING_CLASS_AT_TIME_OF_SALE_S1\n",
            "BUILDING_CLASS_AT_TIME_OF_SALE_A4\n",
            "BUILDING_CLASS_AT_TIME_OF_SALE_A6\n",
            "BUILDING_CLASS_AT_TIME_OF_SALE_A8\n",
            "BUILDING_CLASS_AT_TIME_OF_SALE_S0\n",
            "BUILDING_CLASS_AT_PRESENT_A9\n",
            "BUILDING_CLASS_AT_PRESENT_A1\n",
            "BUILDING_CLASS_AT_PRESENT_A5\n",
            "BUILDING_CLASS_AT_PRESENT_A0\n",
            "BUILDING_CLASS_AT_PRESENT_A2\n",
            "BUILDING_CLASS_AT_PRESENT_S1\n",
            "BUILDING_CLASS_AT_PRESENT_A4\n",
            "BUILDING_CLASS_AT_PRESENT_A6\n",
            "BUILDING_CLASS_AT_PRESENT_A8\n",
            "BUILDING_CLASS_AT_PRESENT_B2\n",
            "BUILDING_CLASS_AT_PRESENT_S0\n",
            "BUILDING_CLASS_AT_PRESENT_B3\n",
            "TAX_CLASS_AT_PRESENT_1\n",
            "TAX_CLASS_AT_PRESENT_1D\n",
            "BLOCK\n",
            "LOT\n",
            "ZIP_CODE\n",
            "RESIDENTIAL_UNITS\n",
            "COMMERCIAL_UNITS\n",
            "TOTAL_UNITS\n",
            "YEAR_BUILT\n"
          ],
          "name": "stdout"
        }
      ]
    },
    {
      "cell_type": "markdown",
      "metadata": {
        "id": "xCtv1F1vOSAw",
        "colab_type": "text"
      },
      "source": [
        "###29 Features Seem to be the Sweet Spot"
      ]
    },
    {
      "cell_type": "code",
      "metadata": {
        "id": "Fo4n6DPEN94y",
        "colab_type": "code",
        "colab": {
          "base_uri": "https://localhost:8080/",
          "height": 1000
        },
        "outputId": "d1e272b5-c4ab-42f7-8db8-12d3ecd088aa"
      },
      "source": [
        "for k in range(1, len(X_train.columns)+1):\n",
        "    print(f'{k} features')\n",
        "\n",
        "    selector = SelectKBest(score_func=f_regression, k=k)\n",
        "    X_train_selected = selector.fit_transform(X_train, y_train)\n",
        "    X_test_selected = selector.transform(X_test)\n",
        "\n",
        "    model = LinearRegression()\n",
        "    model.fit(X_train_selected, y_train)\n",
        "    y_pred = model.predict(X_test_selected)\n",
        "    mae = mean_absolute_error(y_test, y_pred)\n",
        "    print(f'Test Mean Absolute Error: ${mae:,.0f} \\n')"
      ],
      "execution_count": 28,
      "outputs": [
        {
          "output_type": "stream",
          "text": [
            "1 features\n",
            "Test Mean Absolute Error: $183,641 \n",
            "\n",
            "2 features\n",
            "Test Mean Absolute Error: $179,555 \n",
            "\n",
            "3 features\n",
            "Test Mean Absolute Error: $179,291 \n",
            "\n",
            "4 features\n",
            "Test Mean Absolute Error: $179,291 \n",
            "\n",
            "5 features\n",
            "Test Mean Absolute Error: $170,483 \n",
            "\n",
            "6 features\n",
            "Test Mean Absolute Error: $169,982 \n",
            "\n",
            "7 features\n",
            "Test Mean Absolute Error: $168,140 \n",
            "\n",
            "8 features\n",
            "Test Mean Absolute Error: $168,245 \n",
            "\n",
            "9 features\n",
            "Test Mean Absolute Error: $167,855 \n",
            "\n",
            "10 features\n",
            "Test Mean Absolute Error: $164,737 \n",
            "\n",
            "11 features\n",
            "Test Mean Absolute Error: $165,346 \n",
            "\n",
            "12 features\n",
            "Test Mean Absolute Error: $164,860 \n",
            "\n",
            "13 features\n",
            "Test Mean Absolute Error: $155,159 \n",
            "\n",
            "14 features\n",
            "Test Mean Absolute Error: $156,541 \n",
            "\n",
            "15 features\n",
            "Test Mean Absolute Error: $156,572 \n",
            "\n",
            "16 features\n",
            "Test Mean Absolute Error: $156,573 \n",
            "\n",
            "17 features\n",
            "Test Mean Absolute Error: $156,394 \n",
            "\n",
            "18 features\n",
            "Test Mean Absolute Error: $156,394 \n",
            "\n",
            "19 features\n",
            "Test Mean Absolute Error: $156,255 \n",
            "\n",
            "20 features\n",
            "Test Mean Absolute Error: $156,255 \n",
            "\n",
            "21 features\n",
            "Test Mean Absolute Error: $154,396 \n",
            "\n",
            "22 features\n",
            "Test Mean Absolute Error: $154,426 \n",
            "\n",
            "23 features\n",
            "Test Mean Absolute Error: $154,426 \n",
            "\n",
            "24 features\n",
            "Test Mean Absolute Error: $154,426 \n",
            "\n",
            "25 features\n",
            "Test Mean Absolute Error: $154,426 \n",
            "\n",
            "26 features\n",
            "Test Mean Absolute Error: $154,122 \n",
            "\n",
            "27 features\n",
            "Test Mean Absolute Error: $153,987 \n",
            "\n",
            "28 features\n",
            "Test Mean Absolute Error: $153,911 \n",
            "\n",
            "29 features\n",
            "Test Mean Absolute Error: $153,863 \n",
            "\n",
            "30 features\n",
            "Test Mean Absolute Error: $154,713 \n",
            "\n",
            "31 features\n",
            "Test Mean Absolute Error: $154,839 \n",
            "\n",
            "32 features\n",
            "Test Mean Absolute Error: $154,839 \n",
            "\n",
            "33 features\n",
            "Test Mean Absolute Error: $154,775 \n",
            "\n",
            "34 features\n",
            "Test Mean Absolute Error: $154,781 \n",
            "\n",
            "35 features\n",
            "Test Mean Absolute Error: $154,760 \n",
            "\n",
            "36 features\n",
            "Test Mean Absolute Error: $154,593 \n",
            "\n",
            "37 features\n",
            "Test Mean Absolute Error: $154,593 \n",
            "\n",
            "38 features\n",
            "Test Mean Absolute Error: $155,529 \n",
            "\n",
            "39 features\n",
            "Test Mean Absolute Error: $155,697 \n",
            "\n",
            "40 features\n",
            "Test Mean Absolute Error: $155,764 \n",
            "\n",
            "41 features\n",
            "Test Mean Absolute Error: $155,747 \n",
            "\n",
            "42 features\n",
            "Test Mean Absolute Error: $155,979 \n",
            "\n",
            "43 features\n",
            "Test Mean Absolute Error: $155,943 \n",
            "\n",
            "44 features\n",
            "Test Mean Absolute Error: $155,939 \n",
            "\n",
            "45 features\n",
            "Test Mean Absolute Error: $155,939 \n",
            "\n",
            "46 features\n",
            "Test Mean Absolute Error: $155,946 \n",
            "\n"
          ],
          "name": "stdout"
        }
      ]
    },
    {
      "cell_type": "code",
      "metadata": {
        "id": "3oKu4RIhQGI4",
        "colab_type": "code",
        "colab": {}
      },
      "source": [
        "alphas = [0.001, 0.01, 0.1, 1.0, 10.0, 100.0]\n",
        "ridge = RidgeCV(alphas=alphas, normalize=True)"
      ],
      "execution_count": 0,
      "outputs": []
    },
    {
      "cell_type": "code",
      "metadata": {
        "id": "ufvoIXZZPs1z",
        "colab_type": "code",
        "colab": {
          "base_uri": "https://localhost:8080/",
          "height": 221
        },
        "outputId": "82e09c02-aac3-4f74-d73a-f98c32ec36be"
      },
      "source": [
        "for alpha in [0.001, 0.01, 0.1, 1.0, 10.0, 100.0]:\n",
        "    feature = 'GROSS_SQUARE_FEET'\n",
        "    ridge = RidgeCV(alphas=alphas, normalize=True)\n",
        "    ridge.fit(X_train[[feature]], y_train)\n",
        "    ridge.alpha_  \n",
        "    # Fit Ridge Regression model\n",
        "  \n",
        "    display(HTML(f'Ridge Regression, with alpha={alpha}'))\n",
        "    model = RidgeCV(alphas=alphas, normalize=True)\n",
        "    model.fit(X_train[[feature]], y_train)\n",
        "    \n",
        "    # Get Test MAE\n",
        "    y_pred = model.predict(X_test[[feature]])\n",
        "    mae = mean_absolute_error(y_test, y_pred)\n",
        "    display(HTML(f'Test Mean Absolute Error: ${mae:,.0f}'))\n",
        "    \n",
        "    train.plot.scatter(feature, target, alpha=0.05)\n",
        "    plt.plot(X_test[feature], y_pred)\n",
        "    plt.show()"
      ],
      "execution_count": 33,
      "outputs": [
        {
          "output_type": "display_data",
          "data": {
            "text/html": [
              "Ridge Regression, with alpha=0.001"
            ],
            "text/plain": [
              "<IPython.core.display.HTML object>"
            ]
          },
          "metadata": {
            "tags": []
          }
        },
        {
          "output_type": "display_data",
          "data": {
            "text/html": [
              "Test Mean Absolute Error: $183,714"
            ],
            "text/plain": [
              "<IPython.core.display.HTML object>"
            ]
          },
          "metadata": {
            "tags": []
          }
        },
        {
          "output_type": "display_data",
          "data": {
            "text/html": [
              "Ridge Regression, with alpha=0.01"
            ],
            "text/plain": [
              "<IPython.core.display.HTML object>"
            ]
          },
          "metadata": {
            "tags": []
          }
        },
        {
          "output_type": "display_data",
          "data": {
            "text/html": [
              "Test Mean Absolute Error: $183,714"
            ],
            "text/plain": [
              "<IPython.core.display.HTML object>"
            ]
          },
          "metadata": {
            "tags": []
          }
        },
        {
          "output_type": "display_data",
          "data": {
            "text/html": [
              "Ridge Regression, with alpha=0.1"
            ],
            "text/plain": [
              "<IPython.core.display.HTML object>"
            ]
          },
          "metadata": {
            "tags": []
          }
        },
        {
          "output_type": "display_data",
          "data": {
            "text/html": [
              "Test Mean Absolute Error: $183,714"
            ],
            "text/plain": [
              "<IPython.core.display.HTML object>"
            ]
          },
          "metadata": {
            "tags": []
          }
        },
        {
          "output_type": "display_data",
          "data": {
            "text/html": [
              "Ridge Regression, with alpha=1.0"
            ],
            "text/plain": [
              "<IPython.core.display.HTML object>"
            ]
          },
          "metadata": {
            "tags": []
          }
        },
        {
          "output_type": "display_data",
          "data": {
            "text/html": [
              "Test Mean Absolute Error: $183,714"
            ],
            "text/plain": [
              "<IPython.core.display.HTML object>"
            ]
          },
          "metadata": {
            "tags": []
          }
        },
        {
          "output_type": "display_data",
          "data": {
            "text/html": [
              "Ridge Regression, with alpha=10.0"
            ],
            "text/plain": [
              "<IPython.core.display.HTML object>"
            ]
          },
          "metadata": {
            "tags": []
          }
        },
        {
          "output_type": "display_data",
          "data": {
            "text/html": [
              "Test Mean Absolute Error: $183,714"
            ],
            "text/plain": [
              "<IPython.core.display.HTML object>"
            ]
          },
          "metadata": {
            "tags": []
          }
        },
        {
          "output_type": "display_data",
          "data": {
            "text/html": [
              "Ridge Regression, with alpha=100.0"
            ],
            "text/plain": [
              "<IPython.core.display.HTML object>"
            ]
          },
          "metadata": {
            "tags": []
          }
        },
        {
          "output_type": "display_data",
          "data": {
            "text/html": [
              "Test Mean Absolute Error: $183,714"
            ],
            "text/plain": [
              "<IPython.core.display.HTML object>"
            ]
          },
          "metadata": {
            "tags": []
          }
        }
      ]
    },
    {
      "cell_type": "code",
      "metadata": {
        "id": "WaheToMPPdjE",
        "colab_type": "code",
        "colab": {
          "base_uri": "https://localhost:8080/",
          "height": 255
        },
        "outputId": "e6bfe967-7e1e-459c-c9d3-cdef33c64d3d"
      },
      "source": [
        "for alpha in [0.001, 0.01, 0.1, 1.0, 1, 100.0, 1000.0]:\n",
        "    ridge = RidgeCV(alphas=alphas, normalize=True)\n",
        "    ridge.fit(X_train[[feature]], y_train)\n",
        "    ridge.alpha_  \n",
        "    display(HTML(f'Ridge Regression, with alpha={alpha}'))\n",
        "    model = RidgeCV(alphas=alphas, normalize=True)\n",
        "    model.fit(X_train, y_train)\n",
        "    y_pred = model.predict(X_test)\n",
        "\n",
        "    # Get Test MAE\n",
        "    mae = mean_absolute_error(y_test, y_pred)\n",
        "    display(HTML(f'Test Mean Absolute Error: ${mae:,.0f}'))\n",
        "    #print(f'Test Mean Absolute Error: ${mae:,.0f}')\n",
        "    \n",
        "    # Plot coefficients\n",
        "    coefficients = pd.Series(model.coef_, X_train.columns)\n",
        "    plt.figure(figsize=(16,8))\n",
        "    coefficients.sort_values().plot.barh(color='grey')\n",
        "    plt.xlim(-10000,10000)\n",
        "    plt.show()"
      ],
      "execution_count": 35,
      "outputs": [
        {
          "output_type": "display_data",
          "data": {
            "text/html": [
              "Ridge Regression, with alpha=0.001"
            ],
            "text/plain": [
              "<IPython.core.display.HTML object>"
            ]
          },
          "metadata": {
            "tags": []
          }
        },
        {
          "output_type": "display_data",
          "data": {
            "text/html": [
              "Test Mean Absolute Error: $155,929"
            ],
            "text/plain": [
              "<IPython.core.display.HTML object>"
            ]
          },
          "metadata": {
            "tags": []
          }
        },
        {
          "output_type": "display_data",
          "data": {
            "text/html": [
              "Ridge Regression, with alpha=0.01"
            ],
            "text/plain": [
              "<IPython.core.display.HTML object>"
            ]
          },
          "metadata": {
            "tags": []
          }
        },
        {
          "output_type": "display_data",
          "data": {
            "text/html": [
              "Test Mean Absolute Error: $155,929"
            ],
            "text/plain": [
              "<IPython.core.display.HTML object>"
            ]
          },
          "metadata": {
            "tags": []
          }
        },
        {
          "output_type": "display_data",
          "data": {
            "text/html": [
              "Ridge Regression, with alpha=0.1"
            ],
            "text/plain": [
              "<IPython.core.display.HTML object>"
            ]
          },
          "metadata": {
            "tags": []
          }
        },
        {
          "output_type": "display_data",
          "data": {
            "text/html": [
              "Test Mean Absolute Error: $155,929"
            ],
            "text/plain": [
              "<IPython.core.display.HTML object>"
            ]
          },
          "metadata": {
            "tags": []
          }
        },
        {
          "output_type": "display_data",
          "data": {
            "text/html": [
              "Ridge Regression, with alpha=1.0"
            ],
            "text/plain": [
              "<IPython.core.display.HTML object>"
            ]
          },
          "metadata": {
            "tags": []
          }
        },
        {
          "output_type": "display_data",
          "data": {
            "text/html": [
              "Test Mean Absolute Error: $155,929"
            ],
            "text/plain": [
              "<IPython.core.display.HTML object>"
            ]
          },
          "metadata": {
            "tags": []
          }
        },
        {
          "output_type": "display_data",
          "data": {
            "text/html": [
              "Ridge Regression, with alpha=1"
            ],
            "text/plain": [
              "<IPython.core.display.HTML object>"
            ]
          },
          "metadata": {
            "tags": []
          }
        },
        {
          "output_type": "display_data",
          "data": {
            "text/html": [
              "Test Mean Absolute Error: $155,929"
            ],
            "text/plain": [
              "<IPython.core.display.HTML object>"
            ]
          },
          "metadata": {
            "tags": []
          }
        },
        {
          "output_type": "display_data",
          "data": {
            "text/html": [
              "Ridge Regression, with alpha=100.0"
            ],
            "text/plain": [
              "<IPython.core.display.HTML object>"
            ]
          },
          "metadata": {
            "tags": []
          }
        },
        {
          "output_type": "display_data",
          "data": {
            "text/html": [
              "Test Mean Absolute Error: $155,929"
            ],
            "text/plain": [
              "<IPython.core.display.HTML object>"
            ]
          },
          "metadata": {
            "tags": []
          }
        },
        {
          "output_type": "display_data",
          "data": {
            "text/html": [
              "Ridge Regression, with alpha=1000.0"
            ],
            "text/plain": [
              "<IPython.core.display.HTML object>"
            ]
          },
          "metadata": {
            "tags": []
          }
        },
        {
          "output_type": "display_data",
          "data": {
            "text/html": [
              "Test Mean Absolute Error: $155,929"
            ],
            "text/plain": [
              "<IPython.core.display.HTML object>"
            ]
          },
          "metadata": {
            "tags": []
          }
        }
      ]
    }
  ]
}